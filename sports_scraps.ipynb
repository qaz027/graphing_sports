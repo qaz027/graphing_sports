{
  "nbformat": 4,
  "nbformat_minor": 0,
  "metadata": {
    "colab": {
      "name": "sports_scraps.ipynb",
      "provenance": [],
      "collapsed_sections": [],
      "authorship_tag": "ABX9TyMcoVF+Ox8pitAFnxaW3RFG",
      "include_colab_link": true
    },
    "kernelspec": {
      "name": "python3",
      "display_name": "Python 3"
    },
    "language_info": {
      "name": "python"
    }
  },
  "cells": [
    {
      "cell_type": "markdown",
      "metadata": {
        "id": "view-in-github",
        "colab_type": "text"
      },
      "source": [
        "<a href=\"https://colab.research.google.com/github/qaz027/graphing_sports/blob/main/sports_scraps.ipynb\" target=\"_parent\"><img src=\"https://colab.research.google.com/assets/colab-badge.svg\" alt=\"Open In Colab\"/></a>"
      ]
    },
    {
      "cell_type": "code",
      "metadata": {
        "colab": {
          "base_uri": "https://localhost:8080/"
        },
        "id": "hv-5jnKqdSbS",
        "outputId": "b89e3945-317b-4162-a7ba-040305815918"
      },
      "source": [
        "import pandas as pd\n",
        "us_sports = pd.read_excel('https://query.data.world/s/tn7njbsdclooqxcg4g77myuvb75455')\n",
        "\n",
        "#print(us_sports.info())\n",
        "print(us_sports.columns)"
      ],
      "execution_count": null,
      "outputs": [
        {
          "output_type": "stream",
          "text": [
            "Index(['Sport', 2017, 2013, 2008, 2007, 2006, 2005, 2004], dtype='object')\n"
          ],
          "name": "stdout"
        }
      ]
    },
    {
      "cell_type": "code",
      "metadata": {
        "colab": {
          "base_uri": "https://localhost:8080/"
        },
        "id": "RYMxObjrddSj",
        "outputId": "9790d2c8-7beb-4e24-ac03-8c46419e8997"
      },
      "source": [
        "print(us_sports)"
      ],
      "execution_count": null,
      "outputs": [
        {
          "output_type": "stream",
          "text": [
            "                 Sport  2017  2013  2008  2007  2006  2005  2004\n",
            "0             Football    37    39    41    43    43    34    37\n",
            "1           Basketball    11    12     9    11    12    12    13\n",
            "2             Baseball     9    14    10    13    11    12    10\n",
            "3               Soccer     7     4     3     2     2     3     2\n",
            "4           Ice hockey     4     3     4     4     2     4     3\n",
            "5          Auto racing     2     2     3     3     4     5     5\n",
            "6               Tennis     2     3     1     1     1     3     2\n",
            "7                 Golf     1     2     2     2     3     2     2\n",
            "8           Volleyball     1     0     1     0     0     1     0\n",
            "9               Boxing     1     1     2     1     2     1     1\n",
            "10          Gymnastics     1     0     1     1     1     0     1\n",
            "11           Motocross     1     0     0     0     0     0     1\n",
            "12  Ice/Figure skating     1     1     1     2     3     3     4\n",
            "13               Rodeo     0     0     0     0     0     1     1\n",
            "14     Track and field     0     1     0     0     0     0     0\n",
            "15             Fishing     0     1     0     0     0     1     0\n",
            "16            Swimming     0     0     0     0     0     0     0\n",
            "17           Wrestling     0     0     0     1     0     1     1\n",
            "18             Bowling     0     0     0     0     0     0     0\n",
            "19               Other     5     4     6     3     3     4     4\n",
            "20                None    15    11    14    12    12    13    12\n",
            "21          No opinion     0     0     0     1     0     0     1\n"
          ],
          "name": "stdout"
        }
      ]
    },
    {
      "cell_type": "code",
      "metadata": {
        "id": "StNBMoT9e_RG"
      },
      "source": [
        "us_sports.set_index(\"Sport\",inplace=True)\n"
      ],
      "execution_count": null,
      "outputs": []
    },
    {
      "cell_type": "code",
      "metadata": {
        "colab": {
          "base_uri": "https://localhost:8080/"
        },
        "id": "QVN6Q40_jAks",
        "outputId": "4ef52d32-6995-4faf-87cd-0d30875fdaf2"
      },
      "source": [
        "print(us_sports)"
      ],
      "execution_count": null,
      "outputs": [
        {
          "output_type": "stream",
          "text": [
            "                    2017  2013  2008  2007  2006  2005  2004\n",
            "Sport                                                       \n",
            "Football              37    39    41    43    43    34    37\n",
            "Basketball            11    12     9    11    12    12    13\n",
            "Baseball               9    14    10    13    11    12    10\n",
            "Soccer                 7     4     3     2     2     3     2\n",
            "Ice hockey             4     3     4     4     2     4     3\n",
            "Auto racing            2     2     3     3     4     5     5\n",
            "Tennis                 2     3     1     1     1     3     2\n",
            "Golf                   1     2     2     2     3     2     2\n",
            "Volleyball             1     0     1     0     0     1     0\n",
            "Boxing                 1     1     2     1     2     1     1\n",
            "Gymnastics             1     0     1     1     1     0     1\n",
            "Motocross              1     0     0     0     0     0     1\n",
            "Ice/Figure skating     1     1     1     2     3     3     4\n",
            "Rodeo                  0     0     0     0     0     1     1\n",
            "Track and field        0     1     0     0     0     0     0\n",
            "Fishing                0     1     0     0     0     1     0\n",
            "Swimming               0     0     0     0     0     0     0\n",
            "Wrestling              0     0     0     1     0     1     1\n",
            "Bowling                0     0     0     0     0     0     0\n",
            "Other                  5     4     6     3     3     4     4\n",
            "None                  15    11    14    12    12    13    12\n",
            "No opinion             0     0     0     1     0     0     1\n"
          ],
          "name": "stdout"
        }
      ]
    },
    {
      "cell_type": "code",
      "metadata": {
        "colab": {
          "base_uri": "https://localhost:8080/"
        },
        "id": "cGepvwcajJ_4",
        "outputId": "102f620a-0675-4f13-f244-b95f316a2045"
      },
      "source": [
        "us_sports_T=us_sports.transpose()\n",
        "print(us_sports_T)"
      ],
      "execution_count": null,
      "outputs": [
        {
          "output_type": "stream",
          "text": [
            "Sport  Football  Basketball  Baseball  Soccer  ...  Bowling  Other  None  No opinion\n",
            "2017         37          11         9       7  ...        0      5    15           0\n",
            "2013         39          12        14       4  ...        0      4    11           0\n",
            "2008         41           9        10       3  ...        0      6    14           0\n",
            "2007         43          11        13       2  ...        0      3    12           1\n",
            "2006         43          12        11       2  ...        0      3    12           0\n",
            "2005         34          12        12       3  ...        0      4    13           0\n",
            "2004         37          13        10       2  ...        0      4    12           1\n",
            "\n",
            "[7 rows x 22 columns]\n"
          ],
          "name": "stdout"
        }
      ]
    },
    {
      "cell_type": "code",
      "metadata": {
        "id": "wBIsbsn8okR9"
      },
      "source": [
        "years = us_sports_T.index\n",
        "soccer = us_sports_T['Soccer'].values\n",
        "racing = us_sports_T['Auto racing'].values\n"
      ],
      "execution_count": null,
      "outputs": []
    },
    {
      "cell_type": "code",
      "metadata": {
        "colab": {
          "base_uri": "https://localhost:8080/",
          "height": 295
        },
        "id": "zBbkeHsPnboD",
        "outputId": "40ad159c-08c0-4866-83f0-dbfbc6411fc0"
      },
      "source": [
        "import matplotlib.pyplot as plt\n",
        "#soccer ascends while racing falls\n",
        "plt.plot(years, soccer, c = 'r', label = 'Soccer');\n",
        "plt.bar(years, racing, label = 'Auto racing');\n",
        "plt.legend(loc=(1.02,0));\n",
        "plt.xlabel('Year');\n",
        "plt.ylabel('Popularity (% US Citizens)');\n",
        "plt.title('Soccer gains in Popularity, Auto Racing shrinks');\n",
        "\n"
      ],
      "execution_count": null,
      "outputs": [
        {
          "output_type": "display_data",
          "data": {
            "image/png": "[encoded data removed]",
            "text/plain": [
              "<Figure size 432x288 with 1 Axes>"
            ]
          },
          "metadata": {
            "tags": [],
            "needs_background": "light"
          }
        }
      ]
    },
    {
      "cell_type": "code",
      "metadata": {
        "colab": {
          "base_uri": "https://localhost:8080/"
        },
        "id": "iFjHWCKjjl9j",
        "outputId": "ca23e8de-8712-4165-f356-d5128575b218"
      },
      "source": [
        "us_sports_T.info()"
      ],
      "execution_count": null,
      "outputs": [
        {
          "output_type": "stream",
          "text": [
            "<class 'pandas.core.frame.DataFrame'>\n",
            "Index: 7 entries, 2017 to 2004\n",
            "Data columns (total 22 columns):\n",
            " #   Column              Non-Null Count  Dtype\n",
            "---  ------              --------------  -----\n",
            " 0   Football            7 non-null      int64\n",
            " 1   Basketball          7 non-null      int64\n",
            " 2   Baseball            7 non-null      int64\n",
            " 3   Soccer              7 non-null      int64\n",
            " 4   Ice hockey          7 non-null      int64\n",
            " 5   Auto racing         7 non-null      int64\n",
            " 6   Tennis              7 non-null      int64\n",
            " 7   Golf                7 non-null      int64\n",
            " 8   Volleyball          7 non-null      int64\n",
            " 9   Boxing              7 non-null      int64\n",
            " 10  Gymnastics          7 non-null      int64\n",
            " 11  Motocross           7 non-null      int64\n",
            " 12  Ice/Figure skating  7 non-null      int64\n",
            " 13  Rodeo               7 non-null      int64\n",
            " 14  Track and field     7 non-null      int64\n",
            " 15  Fishing             7 non-null      int64\n",
            " 16  Swimming            7 non-null      int64\n",
            " 17  Wrestling           7 non-null      int64\n",
            " 18  Bowling             7 non-null      int64\n",
            " 19  Other               7 non-null      int64\n",
            " 20  None                7 non-null      int64\n",
            " 21  No opinion          7 non-null      int64\n",
            "dtypes: int64(22)\n",
            "memory usage: 1.6+ KB\n"
          ],
          "name": "stdout"
        }
      ]
    },
    {
      "cell_type": "code",
      "metadata": {
        "colab": {
          "base_uri": "https://localhost:8080/"
        },
        "id": "GM-ez0fXj30f",
        "outputId": "5eb0cf99-1896-4b30-98bc-b6ab1d9b5ef3"
      },
      "source": [
        "scraps = us_sports_T.drop(columns=['Football','Basketball','None','Baseball'])\n",
        "scraps.sort_index(ascending=True,inplace=True)\n",
        "print(scraps)\n",
        "scraps_T = scraps.transpose()\n",
        "print(scraps_T)\n"
      ],
      "execution_count": null,
      "outputs": [
        {
          "output_type": "stream",
          "text": [
            "Sport  Soccer  Ice hockey  Auto racing  ...  Bowling  Other  No opinion\n",
            "2004        2           3            5  ...        0      4           1\n",
            "2005        3           4            5  ...        0      4           0\n",
            "2006        2           2            4  ...        0      3           0\n",
            "2007        2           4            3  ...        0      3           1\n",
            "2008        3           4            3  ...        0      6           0\n",
            "2013        4           3            2  ...        0      4           0\n",
            "2017        7           4            2  ...        0      5           0\n",
            "\n",
            "[7 rows x 18 columns]\n",
            "                    2004  2005  2006  2007  2008  2013  2017\n",
            "Sport                                                       \n",
            "Soccer                 2     3     2     2     3     4     7\n",
            "Ice hockey             3     4     2     4     4     3     4\n",
            "Auto racing            5     5     4     3     3     2     2\n",
            "Tennis                 2     3     1     1     1     3     2\n",
            "Golf                   2     2     3     2     2     2     1\n",
            "Volleyball             0     1     0     0     1     0     1\n",
            "Boxing                 1     1     2     1     2     1     1\n",
            "Gymnastics             1     0     1     1     1     0     1\n",
            "Motocross              1     0     0     0     0     0     1\n",
            "Ice/Figure skating     4     3     3     2     1     1     1\n",
            "Rodeo                  1     1     0     0     0     0     0\n",
            "Track and field        0     0     0     0     0     1     0\n",
            "Fishing                0     1     0     0     0     1     0\n",
            "Swimming               0     0     0     0     0     0     0\n",
            "Wrestling              1     1     0     1     0     0     0\n",
            "Bowling                0     0     0     0     0     0     0\n",
            "Other                  4     4     3     3     6     4     5\n",
            "No opinion             1     0     0     1     0     0     0\n"
          ],
          "name": "stdout"
        }
      ]
    }
  ]
}